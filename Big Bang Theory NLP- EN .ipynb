{
 "cells": [
  {
   "cell_type": "code",
   "execution_count": 1,
   "id": "ff28559a-dad1-460d-ab38-79a354b1681b",
   "metadata": {
    "tags": []
   },
   "outputs": [],
   "source": [
    "import requests\n",
    "from bs4 import BeautifulSoup\n",
    "import pandas\n",
    "from nltk.tokenize import word_tokenize\n",
    "import nltk\n",
    "import pandas as pd \n",
    "\n",
    "\n",
    "names=[\"Sheldon\", \"Leonard\", \"Howard\", \"Raj\", \"Penny\"]"
   ]
  },
  {
   "cell_type": "markdown",
   "id": "023f05c8-1e3c-4179-88d0-39e411b7d3a7",
   "metadata": {},
   "source": [
    "#### Can we predict the character of a series from its dialogues?\n"
   ]
  },
  {
   "cell_type": "markdown",
   "id": "cc5dc24e-70a6-4a82-8557-10051605327f",
   "metadata": {},
   "source": [
    "In this exercise we are going to do web scraping of dialogues from the Big Bang Theory series, our goal is to train a model that learns to distinguish between the 5 main characters from the words they use."
   ]
  },
  {
   "cell_type": "code",
   "execution_count": 2,
   "id": "28c2f337-a000-4fe8-807f-eefb488f1082",
   "metadata": {
    "tags": []
   },
   "outputs": [],
   "source": [
    "url_principal=\"https://bigbangtrans.wordpress.com\"\n",
    "\n"
   ]
  },
  {
   "cell_type": "code",
   "execution_count": 3,
   "id": "4d267028-49e3-4783-bf68-019655d3d675",
   "metadata": {
    "tags": []
   },
   "outputs": [
    {
     "name": "stdout",
     "output_type": "stream",
     "text": [
      "<Response [200]>\n",
      "True\n"
     ]
    }
   ],
   "source": [
    "### get response\n",
    "response = requests.get(url_principal)\n",
    "soup = BeautifulSoup(response.text, \"html.parser\")\n",
    "#Que obtengo?\n",
    "print(response)\n",
    "print(bool(response)) #Un boleano con se pudo acceder a la red "
   ]
  },
  {
   "cell_type": "markdown",
   "id": "c106acc0-b59c-416a-971f-745b7b8d5d64",
   "metadata": {},
   "source": [
    "## Get a list with the url of the 231 episodes."
   ]
  },
  {
   "cell_type": "code",
   "execution_count": 4,
   "id": "e3ca62f7-6b45-4e78-b3ca-f27351c364c5",
   "metadata": {
    "tags": []
   },
   "outputs": [],
   "source": [
    "chapters = []\n",
    "\n",
    "# Suponiendo que ya tienes importado BeautifulSoup y que tienes tu objeto soup\n",
    "for item in soup.find_all(\"div\", attrs={\"id\":\"pages-2\"}):\n",
    "    links = item.find_all(\"li\", class_=\"page_item\")\n",
    "    for link in links:\n",
    "        href = link.find(\"a\")[\"href\"]\n",
    "        chapters.append(href)\n",
    "\n"
   ]
  },
  {
   "cell_type": "markdown",
   "id": "ab60368b-facb-4a10-b183-c4ea775edf0c",
   "metadata": {},
   "source": [
    "The first link is an about, so we are not interested in having it."
   ]
  },
  {
   "cell_type": "code",
   "execution_count": 5,
   "id": "2f32f769-9f44-491c-b141-bf3de9b86612",
   "metadata": {
    "tags": []
   },
   "outputs": [],
   "source": [
    "chapters=chapters[1:]"
   ]
  },
  {
   "cell_type": "code",
   "execution_count": 6,
   "id": "1a7cfe3e-1fb6-4a92-a4e6-76d5ae7e4a8b",
   "metadata": {
    "tags": []
   },
   "outputs": [],
   "source": [
    "data = {}\n",
    "for i in range(len(chapters)):\n",
    "    response = requests.get(chapters[i])\n",
    "    soup = BeautifulSoup(response.text, \"html.parser\")\n",
    "    dx= soup.find('div', attrs={'class':'entrytext'})\n",
    "    dialogos = []\n",
    "    for j in dx.find_all('p'):\n",
    "        dialogos.append(j.text)\n",
    "    data[f'capitulo {str(i+1)}']=dialogos\n",
    "\n",
    "\n"
   ]
  },
  {
   "cell_type": "code",
   "execution_count": 7,
   "id": "e100708d-e73e-40dc-9974-3b5f8b4c80fd",
   "metadata": {
    "tags": []
   },
   "outputs": [],
   "source": [
    "Sheldon={}\n",
    "Leonard={}\n",
    "Howard={}\n",
    "Raj={}\n",
    "Penny={}\n",
    "\n",
    "for key,value in data.items():\n",
    "    Sheldon[key]=[]\n",
    "    Leonard[key]=[]\n",
    "    Howard[key]=[]\n",
    "    Raj[key]=[]\n",
    "    Penny[key]=[]\n",
    "    for i in value:\n",
    "        if \"Sheldon:\" in i:\n",
    "            Sheldon[key].append(i.strip(\"Sheldon:\"))\n",
    "        if \"Leonard:\" in i:\n",
    "            Leonard[key].append(i.strip(\"Leonard:\"))\n",
    "        if \"Howard:\" in i:\n",
    "            Howard[key].append(i.strip(\"Howard:\"))\n",
    "        if \"Raj:\" in i:\n",
    "            Raj[key].append(i.strip(\"Raj:\"))\n",
    "        if \"Penny:\" in i:\n",
    "            Penny[key].append(i.strip(\"Penny:\"))\n",
    "            \n",
    "    Sheldon[key]=''.join(Sheldon[key])\n",
    "    Leonard[key]=''.join(Leonard[key])\n",
    "    Howard[key]=''.join(Howard[key])\n",
    "    Raj[key]=''.join(Raj[key])\n",
    "    Penny[key]=''.join(Penny[key])\n",
    "        "
   ]
  },
  {
   "cell_type": "code",
   "execution_count": 8,
   "id": "55669fd8-b465-40a6-824f-e650bc402498",
   "metadata": {
    "tags": []
   },
   "outputs": [],
   "source": [
    "df=pd.DataFrame({\"Sheldon\":Sheldon,\"Leonard\":Leonard,\"Howard\":Howard,\"Raj\":Raj,\"Penny\":Penny})"
   ]
  },
  {
   "cell_type": "code",
   "execution_count": 9,
   "id": "3b0b12bb-f020-49cf-b799-6357cee7d0c8",
   "metadata": {
    "tags": []
   },
   "outputs": [],
   "source": [
    "df_final=pd.melt(df,var_name=\"Personaje\",value_name=\"Texto\")"
   ]
  },
  {
   "cell_type": "code",
   "execution_count": 10,
   "id": "ea5eb65d-098a-4f69-a9f1-8bf3ef54329d",
   "metadata": {
    "tags": []
   },
   "outputs": [],
   "source": [
    "df_final.to_csv(\"bigbang.csv\")"
   ]
  },
  {
   "cell_type": "code",
   "execution_count": 11,
   "id": "15f2b14c-8bc2-4280-96a1-29010d3c8f2b",
   "metadata": {},
   "outputs": [
    {
     "data": {
      "text/html": [
       "<div>\n",
       "<style scoped>\n",
       "    .dataframe tbody tr th:only-of-type {\n",
       "        vertical-align: middle;\n",
       "    }\n",
       "\n",
       "    .dataframe tbody tr th {\n",
       "        vertical-align: top;\n",
       "    }\n",
       "\n",
       "    .dataframe thead th {\n",
       "        text-align: right;\n",
       "    }\n",
       "</style>\n",
       "<table border=\"1\" class=\"dataframe\">\n",
       "  <thead>\n",
       "    <tr style=\"text-align: right;\">\n",
       "      <th></th>\n",
       "      <th>Personaje</th>\n",
       "      <th>Texto</th>\n",
       "    </tr>\n",
       "  </thead>\n",
       "  <tbody>\n",
       "    <tr>\n",
       "      <th>0</th>\n",
       "      <td>Sheldon</td>\n",
       "      <td>So if a photon is directed through a plane wi...</td>\n",
       "    </tr>\n",
       "    <tr>\n",
       "      <th>1</th>\n",
       "      <td>Sheldon</td>\n",
       "      <td>Since it’s not bee season, you can have my ep...</td>\n",
       "    </tr>\n",
       "    <tr>\n",
       "      <th>2</th>\n",
       "      <td>Sheldon</td>\n",
       "      <td>Good lord! Lock and load.  I’ve got the Sword...</td>\n",
       "    </tr>\n",
       "    <tr>\n",
       "      <th>3</th>\n",
       "      <td>Sheldon</td>\n",
       "      <td>I’ve been thinking about time travel again. P...</td>\n",
       "    </tr>\n",
       "    <tr>\n",
       "      <th>4</th>\n",
       "      <td>Sheldon</td>\n",
       "      <td>Alright, I’m moving my infantry division, aug...</td>\n",
       "    </tr>\n",
       "    <tr>\n",
       "      <th>...</th>\n",
       "      <td>...</td>\n",
       "      <td>...</td>\n",
       "    </tr>\n",
       "    <tr>\n",
       "      <th>1150</th>\n",
       "      <td>Penny</td>\n",
       "      <td>Hey, Leonard, if you’re not busy tomorrow, I ...</td>\n",
       "    </tr>\n",
       "    <tr>\n",
       "      <th>1151</th>\n",
       "      <td>Penny</td>\n",
       "      <td>Oh, wait. I remember. Yes. Please find someon...</td>\n",
       "    </tr>\n",
       "    <tr>\n",
       "      <th>1152</th>\n",
       "      <td>Penny</td>\n",
       "      <td>I didn’t know you could drink while you’re br...</td>\n",
       "    </tr>\n",
       "    <tr>\n",
       "      <th>1153</th>\n",
       "      <td>Penny</td>\n",
       "      <td>Champagne, champagne. And for the world’s tal...</td>\n",
       "    </tr>\n",
       "    <tr>\n",
       "      <th>1154</th>\n",
       "      <td>Penny</td>\n",
       "      <td>Not only did they eat together, Leonard said ...</td>\n",
       "    </tr>\n",
       "  </tbody>\n",
       "</table>\n",
       "<p>1155 rows × 2 columns</p>\n",
       "</div>"
      ],
      "text/plain": [
       "     Personaje                                              Texto\n",
       "0      Sheldon   So if a photon is directed through a plane wi...\n",
       "1      Sheldon   Since it’s not bee season, you can have my ep...\n",
       "2      Sheldon   Good lord! Lock and load.  I’ve got the Sword...\n",
       "3      Sheldon   I’ve been thinking about time travel again. P...\n",
       "4      Sheldon   Alright, I’m moving my infantry division, aug...\n",
       "...        ...                                                ...\n",
       "1150     Penny   Hey, Leonard, if you’re not busy tomorrow, I ...\n",
       "1151     Penny   Oh, wait. I remember. Yes. Please find someon...\n",
       "1152     Penny   I didn’t know you could drink while you’re br...\n",
       "1153     Penny   Champagne, champagne. And for the world’s tal...\n",
       "1154     Penny   Not only did they eat together, Leonard said ...\n",
       "\n",
       "[1155 rows x 2 columns]"
      ]
     },
     "execution_count": 11,
     "metadata": {},
     "output_type": "execute_result"
    }
   ],
   "source": [
    "df_final"
   ]
  },
  {
   "cell_type": "markdown",
   "id": "edafbf6a-0767-4d65-8f4c-252c13c9a841",
   "metadata": {},
   "source": [
    "Our goal is to be able to transform the words into a friendly format in order to finally convert them into numerical values that represent whether that word appears in our text or not."
   ]
  },
  {
   "cell_type": "code",
   "execution_count": 12,
   "id": "474a5fb7-1354-4b77-87e0-06ba0544964c",
   "metadata": {
    "tags": []
   },
   "outputs": [],
   "source": [
    "import re\n",
    "\n",
    "# Importamos la función que nos permite Stemmizar de nltk y definimos el stemmer\n",
    "from nltk.stem import PorterStemmer\n",
    "stemmer = PorterStemmer()\n",
    "\n",
    "# Traemos nuevamente las stopwords\n",
    "stopwords = nltk.corpus.stopwords.words('english')"
   ]
  },
  {
   "cell_type": "code",
   "execution_count": 13,
   "id": "0ee9404b-9127-4d9a-a57f-e391029bd01a",
   "metadata": {
    "tags": []
   },
   "outputs": [],
   "source": [
    "def normalizar_y_stemmizar(titular):\n",
    "    # Vamos a reemplzar los caracteres que no sean letras por espacios\n",
    "    titular=re.sub(\"[^a-zA-Z]\",\" \",str(titular)) # he quitado todos los símbolos que no sean letras \n",
    "    # Pasamos todo a minúsculas\n",
    "    titular=titular.lower() # minúsculas\n",
    "    titular = nltk.tokenize.RegexpTokenizer(\"[\\w]+\").tokenize(titular) #tokenizado\n",
    "    # Eliminamos las palabras de menos de 3 letras\n",
    "    titular = [palabra for palabra in titular if len(palabra)>3]\n",
    "    # Sacamos las Stopwords\n",
    "    titular = [word for word in titular if word not in stopwords]\n",
    "    ## Hasta aqui Normalizamos, ahora a stemmizar\n",
    "    \n",
    "    # Aplicamos la funcion para buscar la raiz de las palabras\n",
    "    titular=[stemmer.stem(palabra) for palabra in titular]\n",
    "    # Por ultimo volvemos a unir el titular\n",
    "    titular=\" \".join(titular)\n",
    "    return titular"
   ]
  },
  {
   "cell_type": "code",
   "execution_count": 14,
   "id": "e282e287-63c8-4b4c-9bb2-3baade9afccf",
   "metadata": {
    "tags": []
   },
   "outputs": [],
   "source": [
    "df_final[\"texto_stem\"]=df_final.Texto.apply(normalizar_y_stemmizar)"
   ]
  },
  {
   "cell_type": "markdown",
   "id": "44fee167-71a9-4b93-9277-1356c8150b04",
   "metadata": {},
   "source": [
    "As we can see we have a stemmed text in which we have applied the function from before"
   ]
  },
  {
   "cell_type": "code",
   "execution_count": 15,
   "id": "3ddfffd1-e6c9-4959-b4b3-ccd8aa0cf0b6",
   "metadata": {
    "tags": []
   },
   "outputs": [
    {
     "data": {
      "text/html": [
       "<div>\n",
       "<style scoped>\n",
       "    .dataframe tbody tr th:only-of-type {\n",
       "        vertical-align: middle;\n",
       "    }\n",
       "\n",
       "    .dataframe tbody tr th {\n",
       "        vertical-align: top;\n",
       "    }\n",
       "\n",
       "    .dataframe thead th {\n",
       "        text-align: right;\n",
       "    }\n",
       "</style>\n",
       "<table border=\"1\" class=\"dataframe\">\n",
       "  <thead>\n",
       "    <tr style=\"text-align: right;\">\n",
       "      <th></th>\n",
       "      <th>Personaje</th>\n",
       "      <th>Texto</th>\n",
       "      <th>texto_stem</th>\n",
       "    </tr>\n",
       "  </thead>\n",
       "  <tbody>\n",
       "    <tr>\n",
       "      <th>0</th>\n",
       "      <td>Sheldon</td>\n",
       "      <td>So if a photon is directed through a plane wi...</td>\n",
       "      <td>photon direct plane slit either slit observ sl...</td>\n",
       "    </tr>\n",
       "    <tr>\n",
       "      <th>1</th>\n",
       "      <td>Sheldon</td>\n",
       "      <td>Since it’s not bee season, you can have my ep...</td>\n",
       "      <td>sinc season epinephrin need chopstick thai foo...</td>\n",
       "    </tr>\n",
       "    <tr>\n",
       "      <th>2</th>\n",
       "      <td>Sheldon</td>\n",
       "      <td>Good lord! Lock and load.  I’ve got the Sword...</td>\n",
       "      <td>good lord lock load sword azeroth sheldon swor...</td>\n",
       "    </tr>\n",
       "    <tr>\n",
       "      <th>3</th>\n",
       "      <td>Sheldon</td>\n",
       "      <td>I’ve been thinking about time travel again. P...</td>\n",
       "      <td>think time travel back burner anyway occur eve...</td>\n",
       "    </tr>\n",
       "    <tr>\n",
       "      <th>4</th>\n",
       "      <td>Sheldon</td>\n",
       "      <td>Alright, I’m moving my infantry division, aug...</td>\n",
       "      <td>alright move infantri divis augment battalion ...</td>\n",
       "    </tr>\n",
       "    <tr>\n",
       "      <th>...</th>\n",
       "      <td>...</td>\n",
       "      <td>...</td>\n",
       "      <td>...</td>\n",
       "    </tr>\n",
       "    <tr>\n",
       "      <th>1150</th>\n",
       "      <td>Penny</td>\n",
       "      <td>Hey, Leonard, if you’re not busy tomorrow, I ...</td>\n",
       "      <td>leonard busi tomorrow littl recept work sure c...</td>\n",
       "    </tr>\n",
       "    <tr>\n",
       "      <th>1151</th>\n",
       "      <td>Penny</td>\n",
       "      <td>Oh, wait. I remember. Yes. Please find someon...</td>\n",
       "      <td>wait rememb pleas find someon care alreadi how...</td>\n",
       "    </tr>\n",
       "    <tr>\n",
       "      <th>1152</th>\n",
       "      <td>Penny</td>\n",
       "      <td>I didn’t know you could drink while you’re br...</td>\n",
       "      <td>know could drink breastfeed gonna anoth want f...</td>\n",
       "    </tr>\n",
       "    <tr>\n",
       "      <th>1153</th>\n",
       "      <td>Penny</td>\n",
       "      <td>Champagne, champagne. And for the world’s tal...</td>\n",
       "      <td>champagn champagn world tallest second grader ...</td>\n",
       "    </tr>\n",
       "    <tr>\n",
       "      <th>1154</th>\n",
       "      <td>Penny</td>\n",
       "      <td>Not only did they eat together, Leonard said ...</td>\n",
       "      <td>togeth leonard said made laugh purel cannot be...</td>\n",
       "    </tr>\n",
       "  </tbody>\n",
       "</table>\n",
       "<p>1155 rows × 3 columns</p>\n",
       "</div>"
      ],
      "text/plain": [
       "     Personaje                                              Texto  \\\n",
       "0      Sheldon   So if a photon is directed through a plane wi...   \n",
       "1      Sheldon   Since it’s not bee season, you can have my ep...   \n",
       "2      Sheldon   Good lord! Lock and load.  I’ve got the Sword...   \n",
       "3      Sheldon   I’ve been thinking about time travel again. P...   \n",
       "4      Sheldon   Alright, I’m moving my infantry division, aug...   \n",
       "...        ...                                                ...   \n",
       "1150     Penny   Hey, Leonard, if you’re not busy tomorrow, I ...   \n",
       "1151     Penny   Oh, wait. I remember. Yes. Please find someon...   \n",
       "1152     Penny   I didn’t know you could drink while you’re br...   \n",
       "1153     Penny   Champagne, champagne. And for the world’s tal...   \n",
       "1154     Penny   Not only did they eat together, Leonard said ...   \n",
       "\n",
       "                                             texto_stem  \n",
       "0     photon direct plane slit either slit observ sl...  \n",
       "1     sinc season epinephrin need chopstick thai foo...  \n",
       "2     good lord lock load sword azeroth sheldon swor...  \n",
       "3     think time travel back burner anyway occur eve...  \n",
       "4     alright move infantri divis augment battalion ...  \n",
       "...                                                 ...  \n",
       "1150  leonard busi tomorrow littl recept work sure c...  \n",
       "1151  wait rememb pleas find someon care alreadi how...  \n",
       "1152  know could drink breastfeed gonna anoth want f...  \n",
       "1153  champagn champagn world tallest second grader ...  \n",
       "1154  togeth leonard said made laugh purel cannot be...  \n",
       "\n",
       "[1155 rows x 3 columns]"
      ]
     },
     "execution_count": 15,
     "metadata": {},
     "output_type": "execute_result"
    }
   ],
   "source": [
    "df_final"
   ]
  },
  {
   "cell_type": "markdown",
   "id": "f3d1a804-afa1-4bdc-8a50-d7f61f3be0b3",
   "metadata": {},
   "source": [
    "The next step would be to vectorize in order to have the words in binary format where they represent whether they are present or not."
   ]
  },
  {
   "cell_type": "code",
   "execution_count": 16,
   "id": "16d736dc-5555-42a3-a6bf-3200afe1a77a",
   "metadata": {
    "tags": []
   },
   "outputs": [],
   "source": [
    "from sklearn.feature_extraction.text import CountVectorizer\n",
    "\n",
    "max_features=1000 \n",
    "\n",
    "cou_vec=CountVectorizer(max_features=max_features)\n",
    "\n"
   ]
  },
  {
   "cell_type": "code",
   "execution_count": 17,
   "id": "e0c3d2a6-592d-4554-92db-be62ed99495f",
   "metadata": {
    "tags": []
   },
   "outputs": [
    {
     "name": "stdout",
     "output_type": "stream",
     "text": [
      "50 primeras mas usadas:  ['abl' 'absolut' 'accept' 'across' 'act' 'action' 'activ' 'actress'\n",
      " 'actual' 'admit' 'advic' 'afraid' 'agre' 'agreement' 'ahead' 'alcohol'\n",
      " 'alien' 'allow' 'almost' 'alon' 'along' 'alreadi' 'alright' 'also'\n",
      " 'although' 'alway' 'amaz' 'america' 'american' 'angri' 'anim' 'annoy'\n",
      " 'anoth' 'answer' 'anybodi' 'anymor' 'anyon' 'anyth' 'anyway' 'apart'\n",
      " 'apolog' 'appar' 'appear' 'appli' 'appreci' 'around' 'ask' 'assum'\n",
      " 'astronaut' 'atom']\n"
     ]
    }
   ],
   "source": [
    "matriz_titulos = cou_vec.fit_transform(df_final[\"texto_stem\"]) # le pasamos una columna de texto\n",
    "\n",
    "# Tomamos las palabras\n",
    "all_words = cou_vec.get_feature_names_out()\n",
    "\n",
    "# Vizualizamos las 50 primeras palabras\n",
    "print(\"50 primeras mas usadas: \",all_words[0:50])"
   ]
  },
  {
   "cell_type": "code",
   "execution_count": 18,
   "id": "4ff337c5-c015-4dfd-90d3-1fe841fe3832",
   "metadata": {
    "tags": []
   },
   "outputs": [
    {
     "data": {
      "text/plain": [
       "array([[0, 0, 0, ..., 0, 0, 0],\n",
       "       [0, 0, 1, ..., 0, 0, 0],\n",
       "       [1, 0, 0, ..., 0, 0, 0],\n",
       "       ...,\n",
       "       [0, 0, 0, ..., 0, 5, 0],\n",
       "       [0, 0, 0, ..., 0, 0, 0],\n",
       "       [0, 0, 0, ..., 0, 0, 0]], dtype=int64)"
      ]
     },
     "execution_count": 18,
     "metadata": {},
     "output_type": "execute_result"
    }
   ],
   "source": [
    "matriz_titulos.toarray()"
   ]
  },
  {
   "cell_type": "code",
   "execution_count": 19,
   "id": "7c5fd88c-066e-45dd-812d-7d9e6d0cc110",
   "metadata": {
    "tags": []
   },
   "outputs": [],
   "source": [
    "# x que sea texto_stem \n",
    "\n",
    "y= df_final[\"Personaje\"]\n",
    "x=matriz_titulos.toarray()\n"
   ]
  },
  {
   "cell_type": "code",
   "execution_count": 21,
   "id": "0f82ba54-e263-49bf-9f57-e6c5d322d855",
   "metadata": {
    "tags": []
   },
   "outputs": [],
   "source": [
    "from sklearn.model_selection import train_test_split\n",
    "xtrain, xtest, ytrain, ytest = train_test_split(x,y,test_size=0.2,random_state=42,stratify=y)"
   ]
  },
  {
   "cell_type": "code",
   "execution_count": 22,
   "id": "77e39dc9-1df1-41ce-be4d-f0e30c309edb",
   "metadata": {
    "tags": []
   },
   "outputs": [],
   "source": [
    "from sklearn.ensemble import RandomForestClassifier"
   ]
  },
  {
   "cell_type": "code",
   "execution_count": 23,
   "id": "cd256d63-0d1a-41d3-ba32-976486452ae3",
   "metadata": {
    "tags": []
   },
   "outputs": [],
   "source": [
    "rf=RandomForestClassifier()\n",
    "rf.fit(xtrain,ytrain)\n",
    "y_pred=rf.predict(xtest)"
   ]
  },
  {
   "cell_type": "code",
   "execution_count": 24,
   "id": "316e1d0f-a4d3-4cab-9cff-bd97ab9521d2",
   "metadata": {
    "tags": []
   },
   "outputs": [],
   "source": [
    "from sklearn.metrics import accuracy_score\n",
    "from sklearn.metrics import roc_curve, auc"
   ]
  },
  {
   "cell_type": "code",
   "execution_count": 25,
   "id": "e5be3205-e211-446f-a5d9-ce2b42fc68e9",
   "metadata": {
    "tags": []
   },
   "outputs": [
    {
     "name": "stdout",
     "output_type": "stream",
     "text": [
      "0.6623376623376623\n"
     ]
    }
   ],
   "source": [
    "ypred=rf.predict(xtest)\n",
    "print(accuracy_score(ytest, ypred))\n"
   ]
  },
  {
   "cell_type": "markdown",
   "id": "b51f1add-af7b-43e0-b2d9-a0b99c03def0",
   "metadata": {},
   "source": [
    "By having unbalanced classes we will look at the classification report to take into account the metrics"
   ]
  },
  {
   "cell_type": "markdown",
   "id": "c8189574-94e6-41ae-81d1-0ad378a7d984",
   "metadata": {},
   "source": [
    "Let's briefly define the metrics "
   ]
  },
  {
   "cell_type": "markdown",
   "id": "8cd78f6e-69a3-41e7-a492-9c2de83f298c",
   "metadata": {},
   "source": [
    "***Precision***: Precision refers to the ratio of correct positive predictions (true positives) to the total positive predictions made by the model (true positives plus false positives). \n",
    "\n",
    "***Recall***: The recall (or sensitivity) measures the proportion of true positives correctly identified by the model with respect to the total true positives in the data.\n",
    "\n",
    "\n",
    "***F1-score***: The F1-score is the harmonic mean of precision and recall. It provides a balance between precision and recall and is useful when classes are unbalanced. "
   ]
  },
  {
   "cell_type": "code",
   "execution_count": 26,
   "id": "6cd7fc81-d552-4c7e-ab53-823de8ba8ec3",
   "metadata": {
    "tags": []
   },
   "outputs": [
    {
     "name": "stdout",
     "output_type": "stream",
     "text": [
      "              precision    recall  f1-score   support\n",
      "\n",
      "      Howard       0.54      0.41      0.47        46\n",
      "     Leonard       0.57      0.61      0.59        46\n",
      "       Penny       0.65      0.74      0.69        46\n",
      "         Raj       0.61      0.66      0.63        47\n",
      "     Sheldon       0.93      0.89      0.91        46\n",
      "\n",
      "    accuracy                           0.66       231\n",
      "   macro avg       0.66      0.66      0.66       231\n",
      "weighted avg       0.66      0.66      0.66       231\n",
      "\n"
     ]
    }
   ],
   "source": [
    "from sklearn.metrics import classification_report\n",
    "\n",
    "\n",
    "print(classification_report(ytest, ypred))"
   ]
  },
  {
   "cell_type": "markdown",
   "id": "be012a77-7bbe-4a90-b1d9-8b6a896a7612",
   "metadata": {},
   "source": [
    "What do these metrics mean?"
   ]
  },
  {
   "cell_type": "markdown",
   "id": "4eb903ba-ccfc-4b94-81ed-68e5646bf04f",
   "metadata": {},
   "source": [
    "A ***precision*** of 0.92 for Sheldon, for example, means that 92% of the times the model predicted that a text belonged to Sheldon, it actually belonged to Sheldon.\n",
    "\n",
    "A ***recall*** of 0.41 for Howard indicates that 41% of all texts that actually belonged to Howard were correctly identified by the model as belonging to Howard.\n",
    "\n",
    "A ***F1-score*** of 0.47 for Howard indicates a combination of precision and recall performance for that particular class."
   ]
  },
  {
   "cell_type": "markdown",
   "id": "ed16cf57-6afe-463c-a386-4b824cb0253a",
   "metadata": {
    "tags": []
   },
   "source": [
    "# Concluding remarks"
   ]
  },
  {
   "cell_type": "markdown",
   "id": "c3b31cbf-a727-4317-85be-c8a75f148a41",
   "metadata": {},
   "source": [
    "Metrics vary by class. For example, Sheldon has a significantly higher F1-score compared to Howard. This could indicate that the model has an easier time distinguishing Sheldon from other classes.\n",
    "\n",
    "The overall accuracy is 0.67, suggesting that the model is correctly classifying 67% of the examples in the test set. This is consistent with the accuracy score reported above."
   ]
  }
 ],
 "metadata": {
  "kernelspec": {
   "display_name": "Python 3 (ipykernel)",
   "language": "python",
   "name": "python3"
  },
  "language_info": {
   "codemirror_mode": {
    "name": "ipython",
    "version": 3
   },
   "file_extension": ".py",
   "mimetype": "text/x-python",
   "name": "python",
   "nbconvert_exporter": "python",
   "pygments_lexer": "ipython3",
   "version": "3.11.5"
  }
 },
 "nbformat": 4,
 "nbformat_minor": 5
}
